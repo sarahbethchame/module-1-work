{
  "nbformat": 4,
  "nbformat_minor": 0,
  "metadata": {
    "colab": {
      "provenance": [],
      "authorship_tag": "ABX9TyNlKp+vu6MQ6LjRncuziJCE",
      "include_colab_link": true
    },
    "kernelspec": {
      "name": "python3",
      "display_name": "Python 3"
    },
    "language_info": {
      "name": "python"
    }
  },
  "cells": [
    {
      "cell_type": "markdown",
      "metadata": {
        "id": "view-in-github",
        "colab_type": "text"
      },
      "source": [
        "<a href=\"https://colab.research.google.com/github/sarahbethchame/module-1-work/blob/main/danl_m1_hw1_chambers_sarah.ipynb\" target=\"_parent\"><img src=\"https://colab.research.google.com/assets/colab-badge.svg\" alt=\"Open In Colab\"/></a>"
      ]
    },
    {
      "cell_type": "markdown",
      "source": [
        "Question 1\n",
        "Answer: Use '=' sign to assign a value to variable"
      ],
      "metadata": {
        "id": "k09J3D9NGM5d"
      }
    },
    {
      "cell_type": "code",
      "execution_count": null,
      "metadata": {
        "id": "dOv03WxXABBM",
        "colab": {
          "base_uri": "https://localhost:8080/"
        },
        "outputId": "a9b17c24-8ecb-4bf2-8748-36dde444a9a8"
      },
      "outputs": [
        {
          "output_type": "stream",
          "name": "stdout",
          "text": [
            "5\n"
          ]
        }
      ],
      "source": [
        "x=5\n",
        "print(x)"
      ]
    },
    {
      "cell_type": "code",
      "source": [
        "# The integer 5 has been assigned to the variable x."
      ],
      "metadata": {
        "id": "vQTTPLMxG1Mp"
      },
      "execution_count": null,
      "outputs": []
    },
    {
      "cell_type": "markdown",
      "source": [
        "Question 2 Answer: 2, 3, 4\n",
        "\n"
      ],
      "metadata": {
        "id": "4Px-CzUXHNL2"
      }
    },
    {
      "cell_type": "code",
      "source": [
        "lst = [1,2,3,4,5]\n",
        "lst[1:4]"
      ],
      "metadata": {
        "colab": {
          "base_uri": "https://localhost:8080/"
        },
        "id": "q9bffEMvGAv1",
        "outputId": "08ce694c-d294-478c-e694-3c94cef305ff"
      },
      "execution_count": null,
      "outputs": [
        {
          "output_type": "execute_result",
          "data": {
            "text/plain": [
              "[2, 3, 4]"
            ]
          },
          "metadata": {},
          "execution_count": 2
        }
      ]
    },
    {
      "cell_type": "code",
      "source": [
        "# Here I've created a list of integers 1-5 and then created a substring of the list by using ':' to extract the integers in the list numbered 1-3, which creates a substring including the integers 2, 3, & 4.\n"
      ],
      "metadata": {
        "id": "agkGw16nJT3O"
      },
      "execution_count": null,
      "outputs": []
    },
    {
      "cell_type": "markdown",
      "source": [
        "Question 3 Answer: You create a dictionary with keys and corresponding values by defining a set of variables with a second set of variables in order to create a key for values and items, this creates an association between two objects like a list of words and numbers.\n",
        "\n",
        "In order to access a value associated with a specific key you use .get() with the key."
      ],
      "metadata": {
        "id": "sZjUXK_XKCzj"
      }
    },
    {
      "cell_type": "code",
      "source": [
        "fruit = {\"apple\": 5, \"banana\": 3, \"cherry\": 7}\n",
        "fruit.get(\"banana\")"
      ],
      "metadata": {
        "colab": {
          "base_uri": "https://localhost:8080/"
        },
        "id": "MruNG6B6Mx7V",
        "outputId": "1c5c814d-e5ef-4fba-9e9a-812b2a6bf357"
      },
      "execution_count": 13,
      "outputs": [
        {
          "output_type": "execute_result",
          "data": {
            "text/plain": [
              "3"
            ]
          },
          "metadata": {},
          "execution_count": 13
        }
      ]
    },
    {
      "cell_type": "code",
      "source": [
        "# Create a dictionary in Python in order to create associations between objects."
      ],
      "metadata": {
        "id": "z-1OoBYPwlXD"
      },
      "execution_count": null,
      "outputs": []
    },
    {
      "cell_type": "markdown",
      "source": [
        "Question 4 Answer: The answer to not (100 == '100' and 25 < 36) is True because both the expressions here are false and if they are not false then they are true.\n",
        "\n",
        "The first expression compares an integer to a string which are not equal so this statement is false AND 25 is not greater than 36 which is also false.  Once you negate the statement with 'not' then both not false and false means the answer is true."
      ],
      "metadata": {
        "id": "-kMxi_J0OtzP"
      }
    },
    {
      "cell_type": "code",
      "source": [
        "True and False"
      ],
      "metadata": {
        "colab": {
          "base_uri": "https://localhost:8080/"
        },
        "id": "ydgYfmiZO5vJ",
        "outputId": "bfd4a6bb-006f-4925-b1af-cdbb2cbf5fb1"
      },
      "execution_count": null,
      "outputs": [
        {
          "output_type": "execute_result",
          "data": {
            "text/plain": [
              "False"
            ]
          },
          "metadata": {},
          "execution_count": 27
        }
      ]
    },
    {
      "cell_type": "code",
      "source": [
        "True or False"
      ],
      "metadata": {
        "colab": {
          "base_uri": "https://localhost:8080/"
        },
        "id": "z-IUauJoO8dA",
        "outputId": "2eba1fe4-e2a5-451e-95f1-11e922bef4bb"
      },
      "execution_count": null,
      "outputs": [
        {
          "output_type": "execute_result",
          "data": {
            "text/plain": [
              "True"
            ]
          },
          "metadata": {},
          "execution_count": 28
        }
      ]
    },
    {
      "cell_type": "code",
      "source": [
        "not (100 == '100' and 25 < 36)"
      ],
      "metadata": {
        "colab": {
          "base_uri": "https://localhost:8080/"
        },
        "id": "bgQzljclO-uq",
        "outputId": "14998011-d1ce-4ec8-d267-d700e7015a17"
      },
      "execution_count": null,
      "outputs": [
        {
          "output_type": "execute_result",
          "data": {
            "text/plain": [
              "True"
            ]
          },
          "metadata": {},
          "execution_count": 29
        }
      ]
    },
    {
      "cell_type": "code",
      "source": [
        "# Example of using booleans in python to solve for an expression."
      ],
      "metadata": {
        "id": "NKdhyKS1Q9yN"
      },
      "execution_count": null,
      "outputs": []
    },
    {
      "cell_type": "markdown",
      "source": [
        "Question 5 Answer: I've created this if-elif-else chain in order to print for a score of 80."
      ],
      "metadata": {
        "id": "P4CLLhqfzn2J"
      }
    },
    {
      "cell_type": "code",
      "source": [
        "score = 80\n",
        "if score > 90: print(\"well done\")\n",
        "elif score >40 and score <90: print(\"good\")\n",
        "else: print (\"bad luck\")"
      ],
      "metadata": {
        "colab": {
          "base_uri": "https://localhost:8080/"
        },
        "id": "Zu0W7FW_AGwS",
        "outputId": "533fbc19-e47a-427e-e6a2-272b5be77bac"
      },
      "execution_count": null,
      "outputs": [
        {
          "output_type": "stream",
          "name": "stdout",
          "text": [
            "good\n"
          ]
        }
      ]
    },
    {
      "cell_type": "code",
      "source": [
        "# Use if/elif/else to check for conditions in your coding"
      ],
      "metadata": {
        "id": "sRADdMhzmTXc"
      },
      "execution_count": null,
      "outputs": []
    },
    {
      "cell_type": "markdown",
      "source": [
        "Question 6 Answer: Use a word list to create a loop to print out words in a successive iteration."
      ],
      "metadata": {
        "id": "nChOXv2gDMUo"
      }
    },
    {
      "cell_type": "code",
      "source": [
        "word_list = [\"coding\", \"for\", \"data\", \"analysts\"]\n",
        "\n",
        "for word in list:\n",
        "  print(word)"
      ],
      "metadata": {
        "colab": {
          "base_uri": "https://localhost:8080/"
        },
        "id": "S4gutaAsBYPg",
        "outputId": "f32108c7-584d-43e2-9800-8122eebb7c7a"
      },
      "execution_count": null,
      "outputs": [
        {
          "output_type": "stream",
          "name": "stdout",
          "text": [
            "coding\n",
            "for\n",
            "data\n",
            "analysts\n"
          ]
        }
      ]
    },
    {
      "cell_type": "code",
      "source": [
        "# Items must be iterable in order to create a loop."
      ],
      "metadata": {
        "id": "2L1C2-8Jlorv"
      },
      "execution_count": null,
      "outputs": []
    },
    {
      "cell_type": "markdown",
      "source": [
        "Question 7 Answer: To import a module you use the Python import statement.\n",
        "\n",
        "To find the square root of 16 you assign the math.sqrt(16) to variable named x and then you print x."
      ],
      "metadata": {
        "id": "5YtNAbLtDP_5"
      }
    },
    {
      "cell_type": "code",
      "source": [
        "import math\n",
        "x = math.sqrt(16)\n",
        "print(x)"
      ],
      "metadata": {
        "colab": {
          "base_uri": "https://localhost:8080/"
        },
        "id": "65lE1xvrDScf",
        "outputId": "4ed29e6c-b8d4-45f8-d605-38bc6392774d"
      },
      "execution_count": null,
      "outputs": [
        {
          "output_type": "stream",
          "name": "stdout",
          "text": [
            "4.0\n"
          ]
        }
      ]
    },
    {
      "cell_type": "code",
      "source": [
        "# Use the math module to import common mathmatical functions."
      ],
      "metadata": {
        "id": "T6Zl9m21k3D_"
      },
      "execution_count": null,
      "outputs": []
    }
  ]
}